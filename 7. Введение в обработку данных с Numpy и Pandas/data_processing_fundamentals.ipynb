{
 "cells": [
  {
   "cell_type": "markdown",
   "metadata": {},
   "source": [
    "### МГУ им. М. В. Ломоносова\n",
    "### Введение в анализ геоданных\n",
    "#### [Материалы курса](https://github.com/keyonix/course_geodata)\n",
    "## Python для анализа данных - Введение в обработку данных с Numpy и Pandas"
   ]
  },
  {
   "cell_type": "markdown",
   "metadata": {},
   "source": [
    "### Numpy"
   ]
  },
  {
   "cell_type": "markdown",
   "metadata": {},
   "source": [
    "**Numpy** фундаментальный пакет для научных вычислений в Python. Он предоставляет высокопроизводительный многомерный объект для массивов данных и инструменты для работы с ним."
   ]
  },
  {
   "cell_type": "code",
   "execution_count": 1,
   "metadata": {},
   "outputs": [],
   "source": [
    "import numpy as np"
   ]
  },
  {
   "cell_type": "markdown",
   "metadata": {},
   "source": [
    "Массив в Numpy - это таблица значений одного типа. Количество измерений - ранг массива (rank). Размерность массива (shape) задана кортежем чисел, которые описывают размер каждого измерения массива."
   ]
  },
  {
   "cell_type": "markdown",
   "metadata": {},
   "source": [
    "Создавать массивы можно с помощью вложенных листов."
   ]
  },
  {
   "cell_type": "code",
   "execution_count": 2,
   "metadata": {},
   "outputs": [
    {
     "name": "stdout",
     "output_type": "stream",
     "text": [
      "[1 2 3]\n",
      "<class 'numpy.ndarray'>\n",
      "(3,)\n"
     ]
    }
   ],
   "source": [
    "# Создадим массив ранга 1\n",
    "a = np.array([1, 2, 3])  # создание массива из листа\n",
    "print(a)                 # вывод\n",
    "print(type(a))           # тип\n",
    "print(a.shape)           # размерность массива"
   ]
  },
  {
   "cell_type": "markdown",
   "metadata": {},
   "source": [
    "Получить доступ к элементам массива можно используя квадратные скобки."
   ]
  },
  {
   "cell_type": "code",
   "execution_count": 3,
   "metadata": {},
   "outputs": [
    {
     "name": "stdout",
     "output_type": "stream",
     "text": [
      "1 2 3\n",
      "[5 2 3]\n"
     ]
    }
   ],
   "source": [
    "print(a[0], a[1], a[2])   # вывод элементов массива\n",
    "a[0] = 5                  # изменение элемента массива\n",
    "print(a)                  # вывод массива"
   ]
  },
  {
   "cell_type": "code",
   "execution_count": 4,
   "metadata": {
    "scrolled": true
   },
   "outputs": [
    {
     "name": "stdout",
     "output_type": "stream",
     "text": [
      "[[1 2 3]\n",
      " [4 5 6]]\n",
      "(2, 3)\n",
      "1 2 4\n"
     ]
    }
   ],
   "source": [
    "# Создадим массив ранга 2\n",
    "b = np.array([[1,2,3],[4,5,6]])   # создание массива из вложенных листов\n",
    "print(b)                          # вывод массива\n",
    "print(b.shape)                    # вывод размерности массива\n",
    "print(b[0, 0], b[0, 1], b[1, 0])  # вывод выбранных элементов массива"
   ]
  },
  {
   "cell_type": "markdown",
   "metadata": {},
   "source": [
    "**ЗАДАНИЕ**<br>\n",
    "Создайте массив из листа \\[23,32,47,22\\]. Измените значение второго элемента массива на значение 50. Выведите размерность массива."
   ]
  },
  {
   "cell_type": "code",
   "execution_count": 5,
   "metadata": {},
   "outputs": [],
   "source": [
    "# ВАШ КОД"
   ]
  },
  {
   "cell_type": "markdown",
   "metadata": {},
   "source": [
    "#### Индексирование"
   ]
  },
  {
   "cell_type": "markdown",
   "metadata": {},
   "source": [
    "По аналогии с листами, можно создавать срезы массива. Так как массивы могут быть многомерными, срез можно задать по каждому измерению."
   ]
  },
  {
   "cell_type": "code",
   "execution_count": 6,
   "metadata": {},
   "outputs": [
    {
     "name": "stdout",
     "output_type": "stream",
     "text": [
      "[[1 2 3]\n",
      " [4 5 6]\n",
      " [7 8 9]]\n"
     ]
    }
   ],
   "source": [
    "a = np.array([[1,2,3],\n",
    "              [4,5,6],\n",
    "              [7,8,9]])\n",
    "print(a)"
   ]
  },
  {
   "cell_type": "code",
   "execution_count": 7,
   "metadata": {},
   "outputs": [
    {
     "name": "stdout",
     "output_type": "stream",
     "text": [
      "[[4 5 6]\n",
      " [7 8 9]]\n"
     ]
    }
   ],
   "source": [
    "print(a[1:,:])  # вывод среза массива"
   ]
  },
  {
   "cell_type": "code",
   "execution_count": 8,
   "metadata": {
    "scrolled": false
   },
   "outputs": [
    {
     "name": "stdout",
     "output_type": "stream",
     "text": [
      "[[1 2]\n",
      " [4 5]\n",
      " [7 8]]\n"
     ]
    }
   ],
   "source": [
    "print(a[:,:2])  # вывод среза массива"
   ]
  },
  {
   "cell_type": "markdown",
   "metadata": {},
   "source": [
    "**ЗАДАНИЕ**<br>\n",
    "Выведите срез массива *a*:"
   ]
  },
  {
   "cell_type": "markdown",
   "metadata": {},
   "source": [
    "|||\n",
    "|---|---|\n",
    "|5|6|\n",
    "|8|9|"
   ]
  },
  {
   "cell_type": "code",
   "execution_count": 9,
   "metadata": {},
   "outputs": [],
   "source": [
    "# ВАШ КОД"
   ]
  },
  {
   "cell_type": "markdown",
   "metadata": {},
   "source": [
    "#### Условное индексирование"
   ]
  },
  {
   "cell_type": "markdown",
   "metadata": {},
   "source": [
    "Условное индексирование позволяет получать объекты массива, которые соответствуют заданному условию."
   ]
  },
  {
   "cell_type": "code",
   "execution_count": 10,
   "metadata": {},
   "outputs": [
    {
     "name": "stdout",
     "output_type": "stream",
     "text": [
      "[[1 2 3]\n",
      " [4 5 6]\n",
      " [7 8 9]]\n"
     ]
    }
   ],
   "source": [
    "a = np.array([[1,2,3],\n",
    "              [4,5,6],\n",
    "              [7,8,9]])\n",
    "print(a)"
   ]
  },
  {
   "cell_type": "code",
   "execution_count": 11,
   "metadata": {},
   "outputs": [
    {
     "name": "stdout",
     "output_type": "stream",
     "text": [
      "[[False False False]\n",
      " [ True  True  True]\n",
      " [ True  True  True]]\n"
     ]
    }
   ],
   "source": [
    "bool_ix = (a > 3)  # условное индексирование\n",
    "print(bool_ix)     # вывод булева индекса"
   ]
  },
  {
   "cell_type": "code",
   "execution_count": 12,
   "metadata": {},
   "outputs": [
    {
     "name": "stdout",
     "output_type": "stream",
     "text": [
      "[4 5 6 7 8 9]\n"
     ]
    }
   ],
   "source": [
    "print(a[bool_ix]) # вывод элементов по булеву индексу"
   ]
  },
  {
   "cell_type": "code",
   "execution_count": 13,
   "metadata": {},
   "outputs": [
    {
     "name": "stdout",
     "output_type": "stream",
     "text": [
      "[4 5 6 7 8 9]\n"
     ]
    }
   ],
   "source": [
    "print(a[a > 3]) # условное индексирование с получение элементов массива"
   ]
  },
  {
   "cell_type": "markdown",
   "metadata": {},
   "source": [
    "**ЗАДАНИЕ**<br>\n",
    "Найдите элементы массива *a* со значениями больше 6 с помощью условного идексирования и выведите длину получившегося массива."
   ]
  },
  {
   "cell_type": "code",
   "execution_count": 14,
   "metadata": {},
   "outputs": [],
   "source": [
    "# ВАШ КОД"
   ]
  },
  {
   "cell_type": "markdown",
   "metadata": {},
   "source": [
    "#### Базовые вычисления"
   ]
  },
  {
   "cell_type": "code",
   "execution_count": 15,
   "metadata": {},
   "outputs": [],
   "source": [
    "# Создадим 2 массива содержащих числа с плавающей точкой\n",
    "x = np.array([[1,2],[3,4]], dtype=np.float64)\n",
    "y = np.array([[5,6],[7,8]], dtype=np.float64)"
   ]
  },
  {
   "cell_type": "code",
   "execution_count": 16,
   "metadata": {},
   "outputs": [
    {
     "name": "stdout",
     "output_type": "stream",
     "text": [
      "[[ 1.  2.]\n",
      " [ 3.  4.]]\n"
     ]
    }
   ],
   "source": [
    "print(x)"
   ]
  },
  {
   "cell_type": "code",
   "execution_count": 17,
   "metadata": {},
   "outputs": [
    {
     "name": "stdout",
     "output_type": "stream",
     "text": [
      "[[ 5.  6.]\n",
      " [ 7.  8.]]\n"
     ]
    }
   ],
   "source": [
    "print(y)"
   ]
  },
  {
   "cell_type": "code",
   "execution_count": 18,
   "metadata": {},
   "outputs": [
    {
     "name": "stdout",
     "output_type": "stream",
     "text": [
      "[[  6.   8.]\n",
      " [ 10.  12.]]\n",
      "[[  6.   8.]\n",
      " [ 10.  12.]]\n"
     ]
    }
   ],
   "source": [
    "# Поэлементная сумма\n",
    "print(x + y)\n",
    "print(np.add(x, y))"
   ]
  },
  {
   "cell_type": "code",
   "execution_count": 19,
   "metadata": {},
   "outputs": [
    {
     "name": "stdout",
     "output_type": "stream",
     "text": [
      "[[-4. -4.]\n",
      " [-4. -4.]]\n",
      "[[-4. -4.]\n",
      " [-4. -4.]]\n"
     ]
    }
   ],
   "source": [
    "# Поэлементное вычитание\n",
    "print(x - y)\n",
    "print(np.subtract(x, y))"
   ]
  },
  {
   "cell_type": "code",
   "execution_count": 20,
   "metadata": {},
   "outputs": [
    {
     "name": "stdout",
     "output_type": "stream",
     "text": [
      "[[  5.  12.]\n",
      " [ 21.  32.]]\n",
      "[[  5.  12.]\n",
      " [ 21.  32.]]\n"
     ]
    }
   ],
   "source": [
    "# Поэлементное умножение\n",
    "print(x * y)\n",
    "print(np.multiply(x, y))"
   ]
  },
  {
   "cell_type": "code",
   "execution_count": 21,
   "metadata": {},
   "outputs": [
    {
     "name": "stdout",
     "output_type": "stream",
     "text": [
      "[[ 0.2         0.33333333]\n",
      " [ 0.42857143  0.5       ]]\n",
      "[[ 0.2         0.33333333]\n",
      " [ 0.42857143  0.5       ]]\n"
     ]
    }
   ],
   "source": [
    "# Поэлементное деление\n",
    "print(x / y)\n",
    "print(np.divide(x, y))"
   ]
  },
  {
   "cell_type": "code",
   "execution_count": 22,
   "metadata": {},
   "outputs": [
    {
     "name": "stdout",
     "output_type": "stream",
     "text": [
      "[[ 1.          1.41421356]\n",
      " [ 1.73205081  2.        ]]\n"
     ]
    }
   ],
   "source": [
    "# Поэлементное получение корня\n",
    "print(np.sqrt(x))"
   ]
  },
  {
   "cell_type": "code",
   "execution_count": 23,
   "metadata": {},
   "outputs": [
    {
     "name": "stdout",
     "output_type": "stream",
     "text": [
      "[[ 19.  22.]\n",
      " [ 43.  50.]]\n"
     ]
    }
   ],
   "source": [
    "# Матричное умножение\n",
    "print(np.matmul(x,y))"
   ]
  },
  {
   "cell_type": "markdown",
   "metadata": {},
   "source": [
    "Numpy предоставляет большое количество функций для вычислений над массивами. Одна из наиболее используемых функция sum. Полный список функций детально представлен в [документации Numpy](#https://docs.scipy.org/doc/numpy/reference/routines.array-manipulation.html)."
   ]
  },
  {
   "cell_type": "code",
   "execution_count": 24,
   "metadata": {},
   "outputs": [
    {
     "name": "stdout",
     "output_type": "stream",
     "text": [
      "[[1 2 3]\n",
      " [4 5 6]\n",
      " [7 8 9]]\n"
     ]
    }
   ],
   "source": [
    "x = np.array([[1,2,3],\n",
    "              [4,5,6],\n",
    "              [7,8,9]])\n",
    "print(x)"
   ]
  },
  {
   "cell_type": "code",
   "execution_count": 25,
   "metadata": {},
   "outputs": [
    {
     "name": "stdout",
     "output_type": "stream",
     "text": [
      "45\n"
     ]
    }
   ],
   "source": [
    "# Сумма всех элементов массива\n",
    "print(np.sum(x))"
   ]
  },
  {
   "cell_type": "code",
   "execution_count": 26,
   "metadata": {},
   "outputs": [
    {
     "name": "stdout",
     "output_type": "stream",
     "text": [
      "[12 15 18]\n"
     ]
    }
   ],
   "source": [
    "# Сумма элементов по первой оси\n",
    "print(np.sum(x, axis=0))"
   ]
  },
  {
   "cell_type": "code",
   "execution_count": 27,
   "metadata": {},
   "outputs": [
    {
     "name": "stdout",
     "output_type": "stream",
     "text": [
      "[ 6 15 24]\n"
     ]
    }
   ],
   "source": [
    "# Сумма элементов по второй оси\n",
    "print(np.sum(x, axis=1))"
   ]
  },
  {
   "cell_type": "markdown",
   "metadata": {},
   "source": [
    "**ЗАДАНИЕ**<br>\n",
    "Посчитайте сумму значений больше 30 элементов массива, получившегося в результаты операции поэлементного умножения массива x на массив y. Воспользуйтесь операцией умножения массивов, условным индексированием и функцией суммирования элементов массива."
   ]
  },
  {
   "cell_type": "code",
   "execution_count": 28,
   "metadata": {},
   "outputs": [],
   "source": [
    "# ВАШ КОД"
   ]
  },
  {
   "cell_type": "markdown",
   "metadata": {},
   "source": [
    "### Pandas"
   ]
  },
  {
   "cell_type": "markdown",
   "metadata": {},
   "source": [
    "**Pandas** представляет собой легкую в использовании высокоуровневую структуру данных и многофункциональный инструмент для анализа данных. Полный функционал Pandas детально описан в [документации](https://pandas.pydata.org/pandas-docs/stable/)."
   ]
  },
  {
   "cell_type": "code",
   "execution_count": 29,
   "metadata": {},
   "outputs": [],
   "source": [
    "import pandas as pd"
   ]
  },
  {
   "cell_type": "markdown",
   "metadata": {},
   "source": [
    "Pandas имеет два основных объекта для хранения данных: Series и DataFrame. Series - вектор размерности 1, DataFrame - многомерный вектор. Оба объекта имеют индекс. Создадим pandas Series. При создании Series c помощью листа значений порядковый индекс создается автоматически."
   ]
  },
  {
   "cell_type": "code",
   "execution_count": 30,
   "metadata": {},
   "outputs": [],
   "source": [
    "s = pd.Series([1,3,5,np.nan,6,8]) # способ создания Series путем передачи листа значений"
   ]
  },
  {
   "cell_type": "code",
   "execution_count": 31,
   "metadata": {},
   "outputs": [
    {
     "name": "stdout",
     "output_type": "stream",
     "text": [
      "0    1.0\n",
      "1    3.0\n",
      "2    5.0\n",
      "3    NaN\n",
      "4    6.0\n",
      "5    8.0\n",
      "dtype: float64\n"
     ]
    }
   ],
   "source": [
    "print(s)"
   ]
  },
  {
   "cell_type": "code",
   "execution_count": 32,
   "metadata": {},
   "outputs": [
    {
     "data": {
      "text/plain": [
       "RangeIndex(start=0, stop=6, step=1)"
      ]
     },
     "execution_count": 32,
     "metadata": {},
     "output_type": "execute_result"
    }
   ],
   "source": [
    "s.index  # объект индекса"
   ]
  },
  {
   "cell_type": "code",
   "execution_count": 33,
   "metadata": {},
   "outputs": [
    {
     "data": {
      "text/plain": [
       "array([0, 1, 2, 3, 4, 5])"
      ]
     },
     "execution_count": 33,
     "metadata": {},
     "output_type": "execute_result"
    }
   ],
   "source": [
    "s.index.values # значения идекса"
   ]
  },
  {
   "cell_type": "markdown",
   "metadata": {},
   "source": [
    "Библиотека Numpy обладает широким функционалом для работы с случайными величинами. Для демонстрации функционала Pandas создадим таблицу случайных значений с помощью Numpy. Далее создадим из данной таблицы Pandas DataFrame. При создание DataFrame можно явно передать название колонок в виде листа в параметр columns."
   ]
  },
  {
   "cell_type": "code",
   "execution_count": 34,
   "metadata": {},
   "outputs": [],
   "source": [
    "random_array = np.random.randn(6,4)  # создание таблицы случайных значений со стандартным нормальным распределением из 4 колонок и 6 строк"
   ]
  },
  {
   "cell_type": "code",
   "execution_count": 35,
   "metadata": {},
   "outputs": [
    {
     "name": "stdout",
     "output_type": "stream",
     "text": [
      "[[ 1.64898127 -0.55278405 -0.24639225 -0.48135405]\n",
      " [ 1.70474864 -1.62226332  1.00405875 -0.20172524]\n",
      " [-0.06406074 -1.323426   -0.8950626   0.39950976]\n",
      " [ 0.70343895  0.62128933  1.53449612 -0.23578935]\n",
      " [ 0.39308724  0.50196034 -0.60621985 -1.13486565]\n",
      " [-0.16476231 -1.32932049  1.87372314 -0.53540099]]\n"
     ]
    }
   ],
   "source": [
    "print(random_array)"
   ]
  },
  {
   "cell_type": "code",
   "execution_count": 36,
   "metadata": {},
   "outputs": [],
   "source": [
    "df = pd.DataFrame(random_array, columns = ['A','B','C','D']) # создание DataFrame из Numpy array"
   ]
  },
  {
   "cell_type": "code",
   "execution_count": 37,
   "metadata": {},
   "outputs": [
    {
     "data": {
      "text/html": [
       "<div>\n",
       "<style>\n",
       "    .dataframe thead tr:only-child th {\n",
       "        text-align: right;\n",
       "    }\n",
       "\n",
       "    .dataframe thead th {\n",
       "        text-align: left;\n",
       "    }\n",
       "\n",
       "    .dataframe tbody tr th {\n",
       "        vertical-align: top;\n",
       "    }\n",
       "</style>\n",
       "<table border=\"1\" class=\"dataframe\">\n",
       "  <thead>\n",
       "    <tr style=\"text-align: right;\">\n",
       "      <th></th>\n",
       "      <th>A</th>\n",
       "      <th>B</th>\n",
       "      <th>C</th>\n",
       "      <th>D</th>\n",
       "    </tr>\n",
       "  </thead>\n",
       "  <tbody>\n",
       "    <tr>\n",
       "      <th>0</th>\n",
       "      <td>1.648981</td>\n",
       "      <td>-0.552784</td>\n",
       "      <td>-0.246392</td>\n",
       "      <td>-0.481354</td>\n",
       "    </tr>\n",
       "    <tr>\n",
       "      <th>1</th>\n",
       "      <td>1.704749</td>\n",
       "      <td>-1.622263</td>\n",
       "      <td>1.004059</td>\n",
       "      <td>-0.201725</td>\n",
       "    </tr>\n",
       "    <tr>\n",
       "      <th>2</th>\n",
       "      <td>-0.064061</td>\n",
       "      <td>-1.323426</td>\n",
       "      <td>-0.895063</td>\n",
       "      <td>0.399510</td>\n",
       "    </tr>\n",
       "    <tr>\n",
       "      <th>3</th>\n",
       "      <td>0.703439</td>\n",
       "      <td>0.621289</td>\n",
       "      <td>1.534496</td>\n",
       "      <td>-0.235789</td>\n",
       "    </tr>\n",
       "    <tr>\n",
       "      <th>4</th>\n",
       "      <td>0.393087</td>\n",
       "      <td>0.501960</td>\n",
       "      <td>-0.606220</td>\n",
       "      <td>-1.134866</td>\n",
       "    </tr>\n",
       "    <tr>\n",
       "      <th>5</th>\n",
       "      <td>-0.164762</td>\n",
       "      <td>-1.329320</td>\n",
       "      <td>1.873723</td>\n",
       "      <td>-0.535401</td>\n",
       "    </tr>\n",
       "  </tbody>\n",
       "</table>\n",
       "</div>"
      ],
      "text/plain": [
       "          A         B         C         D\n",
       "0  1.648981 -0.552784 -0.246392 -0.481354\n",
       "1  1.704749 -1.622263  1.004059 -0.201725\n",
       "2 -0.064061 -1.323426 -0.895063  0.399510\n",
       "3  0.703439  0.621289  1.534496 -0.235789\n",
       "4  0.393087  0.501960 -0.606220 -1.134866\n",
       "5 -0.164762 -1.329320  1.873723 -0.535401"
      ]
     },
     "execution_count": 37,
     "metadata": {},
     "output_type": "execute_result"
    }
   ],
   "source": [
    "df  # вывод DataFrame в табличном виде"
   ]
  },
  {
   "cell_type": "code",
   "execution_count": 38,
   "metadata": {},
   "outputs": [
    {
     "data": {
      "text/html": [
       "<div>\n",
       "<style>\n",
       "    .dataframe thead tr:only-child th {\n",
       "        text-align: right;\n",
       "    }\n",
       "\n",
       "    .dataframe thead th {\n",
       "        text-align: left;\n",
       "    }\n",
       "\n",
       "    .dataframe tbody tr th {\n",
       "        vertical-align: top;\n",
       "    }\n",
       "</style>\n",
       "<table border=\"1\" class=\"dataframe\">\n",
       "  <thead>\n",
       "    <tr style=\"text-align: right;\">\n",
       "      <th></th>\n",
       "      <th>A</th>\n",
       "      <th>B</th>\n",
       "      <th>C</th>\n",
       "      <th>D</th>\n",
       "    </tr>\n",
       "  </thead>\n",
       "  <tbody>\n",
       "    <tr>\n",
       "      <th>0</th>\n",
       "      <td>1.648981</td>\n",
       "      <td>-0.552784</td>\n",
       "      <td>-0.246392</td>\n",
       "      <td>-0.481354</td>\n",
       "    </tr>\n",
       "    <tr>\n",
       "      <th>1</th>\n",
       "      <td>1.704749</td>\n",
       "      <td>-1.622263</td>\n",
       "      <td>1.004059</td>\n",
       "      <td>-0.201725</td>\n",
       "    </tr>\n",
       "    <tr>\n",
       "      <th>2</th>\n",
       "      <td>-0.064061</td>\n",
       "      <td>-1.323426</td>\n",
       "      <td>-0.895063</td>\n",
       "      <td>0.399510</td>\n",
       "    </tr>\n",
       "  </tbody>\n",
       "</table>\n",
       "</div>"
      ],
      "text/plain": [
       "          A         B         C         D\n",
       "0  1.648981 -0.552784 -0.246392 -0.481354\n",
       "1  1.704749 -1.622263  1.004059 -0.201725\n",
       "2 -0.064061 -1.323426 -0.895063  0.399510"
      ]
     },
     "execution_count": 38,
     "metadata": {},
     "output_type": "execute_result"
    }
   ],
   "source": [
    "df.head(3)  # вывод первых 3 значений DataFrame"
   ]
  },
  {
   "cell_type": "code",
   "execution_count": 39,
   "metadata": {},
   "outputs": [
    {
     "data": {
      "text/html": [
       "<div>\n",
       "<style>\n",
       "    .dataframe thead tr:only-child th {\n",
       "        text-align: right;\n",
       "    }\n",
       "\n",
       "    .dataframe thead th {\n",
       "        text-align: left;\n",
       "    }\n",
       "\n",
       "    .dataframe tbody tr th {\n",
       "        vertical-align: top;\n",
       "    }\n",
       "</style>\n",
       "<table border=\"1\" class=\"dataframe\">\n",
       "  <thead>\n",
       "    <tr style=\"text-align: right;\">\n",
       "      <th></th>\n",
       "      <th>A</th>\n",
       "      <th>B</th>\n",
       "      <th>C</th>\n",
       "      <th>D</th>\n",
       "    </tr>\n",
       "  </thead>\n",
       "  <tbody>\n",
       "    <tr>\n",
       "      <th>3</th>\n",
       "      <td>0.703439</td>\n",
       "      <td>0.621289</td>\n",
       "      <td>1.534496</td>\n",
       "      <td>-0.235789</td>\n",
       "    </tr>\n",
       "    <tr>\n",
       "      <th>4</th>\n",
       "      <td>0.393087</td>\n",
       "      <td>0.501960</td>\n",
       "      <td>-0.606220</td>\n",
       "      <td>-1.134866</td>\n",
       "    </tr>\n",
       "    <tr>\n",
       "      <th>5</th>\n",
       "      <td>-0.164762</td>\n",
       "      <td>-1.329320</td>\n",
       "      <td>1.873723</td>\n",
       "      <td>-0.535401</td>\n",
       "    </tr>\n",
       "  </tbody>\n",
       "</table>\n",
       "</div>"
      ],
      "text/plain": [
       "          A         B         C         D\n",
       "3  0.703439  0.621289  1.534496 -0.235789\n",
       "4  0.393087  0.501960 -0.606220 -1.134866\n",
       "5 -0.164762 -1.329320  1.873723 -0.535401"
      ]
     },
     "execution_count": 39,
     "metadata": {},
     "output_type": "execute_result"
    }
   ],
   "source": [
    "df.tail(3)  # вывод последних 3 значений DataFrame"
   ]
  },
  {
   "cell_type": "code",
   "execution_count": 40,
   "metadata": {},
   "outputs": [
    {
     "data": {
      "text/plain": [
       "(6, 4)"
      ]
     },
     "execution_count": 40,
     "metadata": {},
     "output_type": "execute_result"
    }
   ],
   "source": [
    "df.shape  # размерность DataFrame"
   ]
  },
  {
   "cell_type": "code",
   "execution_count": 41,
   "metadata": {},
   "outputs": [
    {
     "data": {
      "text/plain": [
       "array([0, 1, 2, 3, 4, 5])"
      ]
     },
     "execution_count": 41,
     "metadata": {},
     "output_type": "execute_result"
    }
   ],
   "source": [
    "df.index.values  # значения идекса DataFrame"
   ]
  },
  {
   "cell_type": "markdown",
   "metadata": {},
   "source": [
    "Для того чтобы получить быструю описательную статистику DataFrame можно воспользоваться функцие describe()."
   ]
  },
  {
   "cell_type": "code",
   "execution_count": 42,
   "metadata": {},
   "outputs": [
    {
     "data": {
      "text/html": [
       "<div>\n",
       "<style>\n",
       "    .dataframe thead tr:only-child th {\n",
       "        text-align: right;\n",
       "    }\n",
       "\n",
       "    .dataframe thead th {\n",
       "        text-align: left;\n",
       "    }\n",
       "\n",
       "    .dataframe tbody tr th {\n",
       "        vertical-align: top;\n",
       "    }\n",
       "</style>\n",
       "<table border=\"1\" class=\"dataframe\">\n",
       "  <thead>\n",
       "    <tr style=\"text-align: right;\">\n",
       "      <th></th>\n",
       "      <th>A</th>\n",
       "      <th>B</th>\n",
       "      <th>C</th>\n",
       "      <th>D</th>\n",
       "    </tr>\n",
       "  </thead>\n",
       "  <tbody>\n",
       "    <tr>\n",
       "      <th>count</th>\n",
       "      <td>6.000000</td>\n",
       "      <td>6.000000</td>\n",
       "      <td>6.000000</td>\n",
       "      <td>6.000000</td>\n",
       "    </tr>\n",
       "    <tr>\n",
       "      <th>mean</th>\n",
       "      <td>0.703572</td>\n",
       "      <td>-0.617424</td>\n",
       "      <td>0.444101</td>\n",
       "      <td>-0.364938</td>\n",
       "    </tr>\n",
       "    <tr>\n",
       "      <th>std</th>\n",
       "      <td>0.816801</td>\n",
       "      <td>0.980464</td>\n",
       "      <td>1.176405</td>\n",
       "      <td>0.502613</td>\n",
       "    </tr>\n",
       "    <tr>\n",
       "      <th>min</th>\n",
       "      <td>-0.164762</td>\n",
       "      <td>-1.622263</td>\n",
       "      <td>-0.895063</td>\n",
       "      <td>-1.134866</td>\n",
       "    </tr>\n",
       "    <tr>\n",
       "      <th>25%</th>\n",
       "      <td>0.050226</td>\n",
       "      <td>-1.327847</td>\n",
       "      <td>-0.516263</td>\n",
       "      <td>-0.521889</td>\n",
       "    </tr>\n",
       "    <tr>\n",
       "      <th>50%</th>\n",
       "      <td>0.548263</td>\n",
       "      <td>-0.938105</td>\n",
       "      <td>0.378833</td>\n",
       "      <td>-0.358572</td>\n",
       "    </tr>\n",
       "    <tr>\n",
       "      <th>75%</th>\n",
       "      <td>1.412596</td>\n",
       "      <td>0.238274</td>\n",
       "      <td>1.401887</td>\n",
       "      <td>-0.210241</td>\n",
       "    </tr>\n",
       "    <tr>\n",
       "      <th>max</th>\n",
       "      <td>1.704749</td>\n",
       "      <td>0.621289</td>\n",
       "      <td>1.873723</td>\n",
       "      <td>0.399510</td>\n",
       "    </tr>\n",
       "  </tbody>\n",
       "</table>\n",
       "</div>"
      ],
      "text/plain": [
       "              A         B         C         D\n",
       "count  6.000000  6.000000  6.000000  6.000000\n",
       "mean   0.703572 -0.617424  0.444101 -0.364938\n",
       "std    0.816801  0.980464  1.176405  0.502613\n",
       "min   -0.164762 -1.622263 -0.895063 -1.134866\n",
       "25%    0.050226 -1.327847 -0.516263 -0.521889\n",
       "50%    0.548263 -0.938105  0.378833 -0.358572\n",
       "75%    1.412596  0.238274  1.401887 -0.210241\n",
       "max    1.704749  0.621289  1.873723  0.399510"
      ]
     },
     "execution_count": 42,
     "metadata": {},
     "output_type": "execute_result"
    }
   ],
   "source": [
    "df.describe()  # описательная статистика DataFrame"
   ]
  },
  {
   "cell_type": "markdown",
   "metadata": {},
   "source": [
    "Функционал Pandas позволяет сортировать DataFrame как по индексу так и по определенной колонке."
   ]
  },
  {
   "cell_type": "code",
   "execution_count": 43,
   "metadata": {},
   "outputs": [
    {
     "data": {
      "text/html": [
       "<div>\n",
       "<style>\n",
       "    .dataframe thead tr:only-child th {\n",
       "        text-align: right;\n",
       "    }\n",
       "\n",
       "    .dataframe thead th {\n",
       "        text-align: left;\n",
       "    }\n",
       "\n",
       "    .dataframe tbody tr th {\n",
       "        vertical-align: top;\n",
       "    }\n",
       "</style>\n",
       "<table border=\"1\" class=\"dataframe\">\n",
       "  <thead>\n",
       "    <tr style=\"text-align: right;\">\n",
       "      <th></th>\n",
       "      <th>D</th>\n",
       "      <th>C</th>\n",
       "      <th>B</th>\n",
       "      <th>A</th>\n",
       "    </tr>\n",
       "  </thead>\n",
       "  <tbody>\n",
       "    <tr>\n",
       "      <th>0</th>\n",
       "      <td>-0.481354</td>\n",
       "      <td>-0.246392</td>\n",
       "      <td>-0.552784</td>\n",
       "      <td>1.648981</td>\n",
       "    </tr>\n",
       "    <tr>\n",
       "      <th>1</th>\n",
       "      <td>-0.201725</td>\n",
       "      <td>1.004059</td>\n",
       "      <td>-1.622263</td>\n",
       "      <td>1.704749</td>\n",
       "    </tr>\n",
       "    <tr>\n",
       "      <th>2</th>\n",
       "      <td>0.399510</td>\n",
       "      <td>-0.895063</td>\n",
       "      <td>-1.323426</td>\n",
       "      <td>-0.064061</td>\n",
       "    </tr>\n",
       "    <tr>\n",
       "      <th>3</th>\n",
       "      <td>-0.235789</td>\n",
       "      <td>1.534496</td>\n",
       "      <td>0.621289</td>\n",
       "      <td>0.703439</td>\n",
       "    </tr>\n",
       "    <tr>\n",
       "      <th>4</th>\n",
       "      <td>-1.134866</td>\n",
       "      <td>-0.606220</td>\n",
       "      <td>0.501960</td>\n",
       "      <td>0.393087</td>\n",
       "    </tr>\n",
       "    <tr>\n",
       "      <th>5</th>\n",
       "      <td>-0.535401</td>\n",
       "      <td>1.873723</td>\n",
       "      <td>-1.329320</td>\n",
       "      <td>-0.164762</td>\n",
       "    </tr>\n",
       "  </tbody>\n",
       "</table>\n",
       "</div>"
      ],
      "text/plain": [
       "          D         C         B         A\n",
       "0 -0.481354 -0.246392 -0.552784  1.648981\n",
       "1 -0.201725  1.004059 -1.622263  1.704749\n",
       "2  0.399510 -0.895063 -1.323426 -0.064061\n",
       "3 -0.235789  1.534496  0.621289  0.703439\n",
       "4 -1.134866 -0.606220  0.501960  0.393087\n",
       "5 -0.535401  1.873723 -1.329320 -0.164762"
      ]
     },
     "execution_count": 43,
     "metadata": {},
     "output_type": "execute_result"
    }
   ],
   "source": [
    "df.sort_index(axis=1, ascending=False)  # сортировка по индексу"
   ]
  },
  {
   "cell_type": "code",
   "execution_count": 44,
   "metadata": {},
   "outputs": [
    {
     "data": {
      "text/html": [
       "<div>\n",
       "<style>\n",
       "    .dataframe thead tr:only-child th {\n",
       "        text-align: right;\n",
       "    }\n",
       "\n",
       "    .dataframe thead th {\n",
       "        text-align: left;\n",
       "    }\n",
       "\n",
       "    .dataframe tbody tr th {\n",
       "        vertical-align: top;\n",
       "    }\n",
       "</style>\n",
       "<table border=\"1\" class=\"dataframe\">\n",
       "  <thead>\n",
       "    <tr style=\"text-align: right;\">\n",
       "      <th></th>\n",
       "      <th>A</th>\n",
       "      <th>B</th>\n",
       "      <th>C</th>\n",
       "      <th>D</th>\n",
       "    </tr>\n",
       "  </thead>\n",
       "  <tbody>\n",
       "    <tr>\n",
       "      <th>3</th>\n",
       "      <td>0.703439</td>\n",
       "      <td>0.621289</td>\n",
       "      <td>1.534496</td>\n",
       "      <td>-0.235789</td>\n",
       "    </tr>\n",
       "    <tr>\n",
       "      <th>4</th>\n",
       "      <td>0.393087</td>\n",
       "      <td>0.501960</td>\n",
       "      <td>-0.606220</td>\n",
       "      <td>-1.134866</td>\n",
       "    </tr>\n",
       "    <tr>\n",
       "      <th>0</th>\n",
       "      <td>1.648981</td>\n",
       "      <td>-0.552784</td>\n",
       "      <td>-0.246392</td>\n",
       "      <td>-0.481354</td>\n",
       "    </tr>\n",
       "    <tr>\n",
       "      <th>2</th>\n",
       "      <td>-0.064061</td>\n",
       "      <td>-1.323426</td>\n",
       "      <td>-0.895063</td>\n",
       "      <td>0.399510</td>\n",
       "    </tr>\n",
       "    <tr>\n",
       "      <th>5</th>\n",
       "      <td>-0.164762</td>\n",
       "      <td>-1.329320</td>\n",
       "      <td>1.873723</td>\n",
       "      <td>-0.535401</td>\n",
       "    </tr>\n",
       "    <tr>\n",
       "      <th>1</th>\n",
       "      <td>1.704749</td>\n",
       "      <td>-1.622263</td>\n",
       "      <td>1.004059</td>\n",
       "      <td>-0.201725</td>\n",
       "    </tr>\n",
       "  </tbody>\n",
       "</table>\n",
       "</div>"
      ],
      "text/plain": [
       "          A         B         C         D\n",
       "3  0.703439  0.621289  1.534496 -0.235789\n",
       "4  0.393087  0.501960 -0.606220 -1.134866\n",
       "0  1.648981 -0.552784 -0.246392 -0.481354\n",
       "2 -0.064061 -1.323426 -0.895063  0.399510\n",
       "5 -0.164762 -1.329320  1.873723 -0.535401\n",
       "1  1.704749 -1.622263  1.004059 -0.201725"
      ]
     },
     "execution_count": 44,
     "metadata": {},
     "output_type": "execute_result"
    }
   ],
   "source": [
    "df.sort_values(by='B', ascending=False)  # сортировка по колонке"
   ]
  },
  {
   "cell_type": "markdown",
   "metadata": {},
   "source": [
    "Pandas имеет широкий функционал для выделения и фильтрации данных."
   ]
  },
  {
   "cell_type": "code",
   "execution_count": 45,
   "metadata": {},
   "outputs": [
    {
     "data": {
      "text/plain": [
       "0   -0.246392\n",
       "1    1.004059\n",
       "2   -0.895063\n",
       "3    1.534496\n",
       "4   -0.606220\n",
       "5    1.873723\n",
       "Name: C, dtype: float64"
      ]
     },
     "execution_count": 45,
     "metadata": {},
     "output_type": "execute_result"
    }
   ],
   "source": [
    "df['C']  # выбор отдельной колонки"
   ]
  },
  {
   "cell_type": "code",
   "execution_count": 46,
   "metadata": {},
   "outputs": [
    {
     "data": {
      "text/html": [
       "<div>\n",
       "<style>\n",
       "    .dataframe thead tr:only-child th {\n",
       "        text-align: right;\n",
       "    }\n",
       "\n",
       "    .dataframe thead th {\n",
       "        text-align: left;\n",
       "    }\n",
       "\n",
       "    .dataframe tbody tr th {\n",
       "        vertical-align: top;\n",
       "    }\n",
       "</style>\n",
       "<table border=\"1\" class=\"dataframe\">\n",
       "  <thead>\n",
       "    <tr style=\"text-align: right;\">\n",
       "      <th></th>\n",
       "      <th>A</th>\n",
       "      <th>B</th>\n",
       "      <th>C</th>\n",
       "      <th>D</th>\n",
       "    </tr>\n",
       "  </thead>\n",
       "  <tbody>\n",
       "    <tr>\n",
       "      <th>2</th>\n",
       "      <td>-0.064061</td>\n",
       "      <td>-1.323426</td>\n",
       "      <td>-0.895063</td>\n",
       "      <td>0.399510</td>\n",
       "    </tr>\n",
       "    <tr>\n",
       "      <th>3</th>\n",
       "      <td>0.703439</td>\n",
       "      <td>0.621289</td>\n",
       "      <td>1.534496</td>\n",
       "      <td>-0.235789</td>\n",
       "    </tr>\n",
       "  </tbody>\n",
       "</table>\n",
       "</div>"
      ],
      "text/plain": [
       "          A         B         C         D\n",
       "2 -0.064061 -1.323426 -0.895063  0.399510\n",
       "3  0.703439  0.621289  1.534496 -0.235789"
      ]
     },
     "execution_count": 46,
     "metadata": {},
     "output_type": "execute_result"
    }
   ],
   "source": [
    "df[2:4]  # срез данных по строкам"
   ]
  },
  {
   "cell_type": "code",
   "execution_count": 47,
   "metadata": {},
   "outputs": [
    {
     "data": {
      "text/plain": [
       "A    0.703439\n",
       "B    0.621289\n",
       "C    1.534496\n",
       "D   -0.235789\n",
       "Name: 3, dtype: float64"
      ]
     },
     "execution_count": 47,
     "metadata": {},
     "output_type": "execute_result"
    }
   ],
   "source": [
    "df.loc[3]  # выбор значений колонок для заданного значения индекса"
   ]
  },
  {
   "cell_type": "code",
   "execution_count": 48,
   "metadata": {},
   "outputs": [
    {
     "data": {
      "text/html": [
       "<div>\n",
       "<style>\n",
       "    .dataframe thead tr:only-child th {\n",
       "        text-align: right;\n",
       "    }\n",
       "\n",
       "    .dataframe thead th {\n",
       "        text-align: left;\n",
       "    }\n",
       "\n",
       "    .dataframe tbody tr th {\n",
       "        vertical-align: top;\n",
       "    }\n",
       "</style>\n",
       "<table border=\"1\" class=\"dataframe\">\n",
       "  <thead>\n",
       "    <tr style=\"text-align: right;\">\n",
       "      <th></th>\n",
       "      <th>A</th>\n",
       "      <th>B</th>\n",
       "    </tr>\n",
       "  </thead>\n",
       "  <tbody>\n",
       "    <tr>\n",
       "      <th>2</th>\n",
       "      <td>-0.064061</td>\n",
       "      <td>-1.323426</td>\n",
       "    </tr>\n",
       "    <tr>\n",
       "      <th>3</th>\n",
       "      <td>0.703439</td>\n",
       "      <td>0.621289</td>\n",
       "    </tr>\n",
       "  </tbody>\n",
       "</table>\n",
       "</div>"
      ],
      "text/plain": [
       "          A         B\n",
       "2 -0.064061 -1.323426\n",
       "3  0.703439  0.621289"
      ]
     },
     "execution_count": 48,
     "metadata": {},
     "output_type": "execute_result"
    }
   ],
   "source": [
    "df.loc[2:3,['A','B']]  # срез данных по строкам и колонкам"
   ]
  },
  {
   "cell_type": "code",
   "execution_count": 49,
   "metadata": {},
   "outputs": [
    {
     "data": {
      "text/plain": [
       "-0.064060736040675179"
      ]
     },
     "execution_count": 49,
     "metadata": {},
     "output_type": "execute_result"
    }
   ],
   "source": [
    "df.loc[2,'A']  # выбор значения DataFrame по индексу и колонке"
   ]
  },
  {
   "cell_type": "markdown",
   "metadata": {},
   "source": [
    "Pandas включает функции для удобного условного индексирования."
   ]
  },
  {
   "cell_type": "code",
   "execution_count": 50,
   "metadata": {},
   "outputs": [
    {
     "data": {
      "text/html": [
       "<div>\n",
       "<style>\n",
       "    .dataframe thead tr:only-child th {\n",
       "        text-align: right;\n",
       "    }\n",
       "\n",
       "    .dataframe thead th {\n",
       "        text-align: left;\n",
       "    }\n",
       "\n",
       "    .dataframe tbody tr th {\n",
       "        vertical-align: top;\n",
       "    }\n",
       "</style>\n",
       "<table border=\"1\" class=\"dataframe\">\n",
       "  <thead>\n",
       "    <tr style=\"text-align: right;\">\n",
       "      <th></th>\n",
       "      <th>A</th>\n",
       "      <th>B</th>\n",
       "      <th>C</th>\n",
       "      <th>D</th>\n",
       "    </tr>\n",
       "  </thead>\n",
       "  <tbody>\n",
       "    <tr>\n",
       "      <th>0</th>\n",
       "      <td>1.648981</td>\n",
       "      <td>-0.552784</td>\n",
       "      <td>-0.246392</td>\n",
       "      <td>-0.481354</td>\n",
       "    </tr>\n",
       "    <tr>\n",
       "      <th>1</th>\n",
       "      <td>1.704749</td>\n",
       "      <td>-1.622263</td>\n",
       "      <td>1.004059</td>\n",
       "      <td>-0.201725</td>\n",
       "    </tr>\n",
       "    <tr>\n",
       "      <th>3</th>\n",
       "      <td>0.703439</td>\n",
       "      <td>0.621289</td>\n",
       "      <td>1.534496</td>\n",
       "      <td>-0.235789</td>\n",
       "    </tr>\n",
       "    <tr>\n",
       "      <th>4</th>\n",
       "      <td>0.393087</td>\n",
       "      <td>0.501960</td>\n",
       "      <td>-0.606220</td>\n",
       "      <td>-1.134866</td>\n",
       "    </tr>\n",
       "  </tbody>\n",
       "</table>\n",
       "</div>"
      ],
      "text/plain": [
       "          A         B         C         D\n",
       "0  1.648981 -0.552784 -0.246392 -0.481354\n",
       "1  1.704749 -1.622263  1.004059 -0.201725\n",
       "3  0.703439  0.621289  1.534496 -0.235789\n",
       "4  0.393087  0.501960 -0.606220 -1.134866"
      ]
     },
     "execution_count": 50,
     "metadata": {},
     "output_type": "execute_result"
    }
   ],
   "source": [
    "df[df['A'] > 0]  # срез данных со значениями в колонке 'A' больше 0"
   ]
  },
  {
   "cell_type": "code",
   "execution_count": 51,
   "metadata": {},
   "outputs": [
    {
     "data": {
      "text/html": [
       "<div>\n",
       "<style>\n",
       "    .dataframe thead tr:only-child th {\n",
       "        text-align: right;\n",
       "    }\n",
       "\n",
       "    .dataframe thead th {\n",
       "        text-align: left;\n",
       "    }\n",
       "\n",
       "    .dataframe tbody tr th {\n",
       "        vertical-align: top;\n",
       "    }\n",
       "</style>\n",
       "<table border=\"1\" class=\"dataframe\">\n",
       "  <thead>\n",
       "    <tr style=\"text-align: right;\">\n",
       "      <th></th>\n",
       "      <th>A</th>\n",
       "      <th>B</th>\n",
       "      <th>C</th>\n",
       "      <th>D</th>\n",
       "    </tr>\n",
       "  </thead>\n",
       "  <tbody>\n",
       "    <tr>\n",
       "      <th>3</th>\n",
       "      <td>0.703439</td>\n",
       "      <td>0.621289</td>\n",
       "      <td>1.534496</td>\n",
       "      <td>-0.235789</td>\n",
       "    </tr>\n",
       "    <tr>\n",
       "      <th>4</th>\n",
       "      <td>0.393087</td>\n",
       "      <td>0.501960</td>\n",
       "      <td>-0.606220</td>\n",
       "      <td>-1.134866</td>\n",
       "    </tr>\n",
       "  </tbody>\n",
       "</table>\n",
       "</div>"
      ],
      "text/plain": [
       "          A         B         C         D\n",
       "3  0.703439  0.621289  1.534496 -0.235789\n",
       "4  0.393087  0.501960 -0.606220 -1.134866"
      ]
     },
     "execution_count": 51,
     "metadata": {},
     "output_type": "execute_result"
    }
   ],
   "source": [
    "df[(df['A'] > 0) & (df['B'] > 0)]  # срез данных со значениями в колонке 'A' и 'B' больше 0"
   ]
  },
  {
   "cell_type": "code",
   "execution_count": 52,
   "metadata": {},
   "outputs": [
    {
     "data": {
      "text/html": [
       "<div>\n",
       "<style>\n",
       "    .dataframe thead tr:only-child th {\n",
       "        text-align: right;\n",
       "    }\n",
       "\n",
       "    .dataframe thead th {\n",
       "        text-align: left;\n",
       "    }\n",
       "\n",
       "    .dataframe tbody tr th {\n",
       "        vertical-align: top;\n",
       "    }\n",
       "</style>\n",
       "<table border=\"1\" class=\"dataframe\">\n",
       "  <thead>\n",
       "    <tr style=\"text-align: right;\">\n",
       "      <th></th>\n",
       "      <th>A</th>\n",
       "      <th>B</th>\n",
       "      <th>C</th>\n",
       "      <th>D</th>\n",
       "    </tr>\n",
       "  </thead>\n",
       "  <tbody>\n",
       "    <tr>\n",
       "      <th>0</th>\n",
       "      <td>1.648981</td>\n",
       "      <td>-0.552784</td>\n",
       "      <td>-0.246392</td>\n",
       "      <td>-0.481354</td>\n",
       "    </tr>\n",
       "    <tr>\n",
       "      <th>1</th>\n",
       "      <td>1.704749</td>\n",
       "      <td>-1.622263</td>\n",
       "      <td>1.004059</td>\n",
       "      <td>-0.201725</td>\n",
       "    </tr>\n",
       "    <tr>\n",
       "      <th>3</th>\n",
       "      <td>0.703439</td>\n",
       "      <td>0.621289</td>\n",
       "      <td>1.534496</td>\n",
       "      <td>-0.235789</td>\n",
       "    </tr>\n",
       "    <tr>\n",
       "      <th>4</th>\n",
       "      <td>0.393087</td>\n",
       "      <td>0.501960</td>\n",
       "      <td>-0.606220</td>\n",
       "      <td>-1.134866</td>\n",
       "    </tr>\n",
       "    <tr>\n",
       "      <th>5</th>\n",
       "      <td>-0.164762</td>\n",
       "      <td>-1.329320</td>\n",
       "      <td>1.873723</td>\n",
       "      <td>-0.535401</td>\n",
       "    </tr>\n",
       "  </tbody>\n",
       "</table>\n",
       "</div>"
      ],
      "text/plain": [
       "          A         B         C         D\n",
       "0  1.648981 -0.552784 -0.246392 -0.481354\n",
       "1  1.704749 -1.622263  1.004059 -0.201725\n",
       "3  0.703439  0.621289  1.534496 -0.235789\n",
       "4  0.393087  0.501960 -0.606220 -1.134866\n",
       "5 -0.164762 -1.329320  1.873723 -0.535401"
      ]
     },
     "execution_count": 52,
     "metadata": {},
     "output_type": "execute_result"
    }
   ],
   "source": [
    "df[(df['A'] > 0) | (df['C'] > 0)]  # срез данных со значениями в колонке 'A' или 'C' больше 0"
   ]
  },
  {
   "cell_type": "markdown",
   "metadata": {},
   "source": [
    "**ЗАДАНИЕ**<br>\n",
    "Выведите срез DataFrame df, в котором значения в колонке 'C' больше 0.2, значения в колонке 'D' меньше 0.9 и значения в колонке 'B' больше 0."
   ]
  },
  {
   "cell_type": "code",
   "execution_count": 53,
   "metadata": {},
   "outputs": [],
   "source": [
    "# ВАШ КОД"
   ]
  },
  {
   "cell_type": "code",
   "execution_count": 54,
   "metadata": {},
   "outputs": [],
   "source": [
    "df['E'] = ['one', 'one','two','three','four','three']  # создание новой колонки со значениями в DataFrame"
   ]
  },
  {
   "cell_type": "code",
   "execution_count": 55,
   "metadata": {},
   "outputs": [
    {
     "data": {
      "text/html": [
       "<div>\n",
       "<style>\n",
       "    .dataframe thead tr:only-child th {\n",
       "        text-align: right;\n",
       "    }\n",
       "\n",
       "    .dataframe thead th {\n",
       "        text-align: left;\n",
       "    }\n",
       "\n",
       "    .dataframe tbody tr th {\n",
       "        vertical-align: top;\n",
       "    }\n",
       "</style>\n",
       "<table border=\"1\" class=\"dataframe\">\n",
       "  <thead>\n",
       "    <tr style=\"text-align: right;\">\n",
       "      <th></th>\n",
       "      <th>A</th>\n",
       "      <th>B</th>\n",
       "      <th>C</th>\n",
       "      <th>D</th>\n",
       "      <th>E</th>\n",
       "    </tr>\n",
       "  </thead>\n",
       "  <tbody>\n",
       "    <tr>\n",
       "      <th>2</th>\n",
       "      <td>-0.064061</td>\n",
       "      <td>-1.323426</td>\n",
       "      <td>-0.895063</td>\n",
       "      <td>0.399510</td>\n",
       "      <td>two</td>\n",
       "    </tr>\n",
       "    <tr>\n",
       "      <th>4</th>\n",
       "      <td>0.393087</td>\n",
       "      <td>0.501960</td>\n",
       "      <td>-0.606220</td>\n",
       "      <td>-1.134866</td>\n",
       "      <td>four</td>\n",
       "    </tr>\n",
       "  </tbody>\n",
       "</table>\n",
       "</div>"
      ],
      "text/plain": [
       "          A         B         C         D     E\n",
       "2 -0.064061 -1.323426 -0.895063  0.399510   two\n",
       "4  0.393087  0.501960 -0.606220 -1.134866  four"
      ]
     },
     "execution_count": 55,
     "metadata": {},
     "output_type": "execute_result"
    }
   ],
   "source": [
    "df[df['E'].isin(['two','four'])]  # срез данных со значениями в колонке 'E' равными 'two' и 'four'"
   ]
  },
  {
   "cell_type": "code",
   "execution_count": 56,
   "metadata": {},
   "outputs": [
    {
     "data": {
      "text/html": [
       "<div>\n",
       "<style>\n",
       "    .dataframe thead tr:only-child th {\n",
       "        text-align: right;\n",
       "    }\n",
       "\n",
       "    .dataframe thead th {\n",
       "        text-align: left;\n",
       "    }\n",
       "\n",
       "    .dataframe tbody tr th {\n",
       "        vertical-align: top;\n",
       "    }\n",
       "</style>\n",
       "<table border=\"1\" class=\"dataframe\">\n",
       "  <thead>\n",
       "    <tr style=\"text-align: right;\">\n",
       "      <th></th>\n",
       "      <th>A</th>\n",
       "      <th>B</th>\n",
       "      <th>C</th>\n",
       "      <th>D</th>\n",
       "      <th>E</th>\n",
       "    </tr>\n",
       "  </thead>\n",
       "  <tbody>\n",
       "    <tr>\n",
       "      <th>0</th>\n",
       "      <td>1.648981</td>\n",
       "      <td>-0.552784</td>\n",
       "      <td>-0.246392</td>\n",
       "      <td>-0.481354</td>\n",
       "      <td>one</td>\n",
       "    </tr>\n",
       "    <tr>\n",
       "      <th>1</th>\n",
       "      <td>1.704749</td>\n",
       "      <td>-1.622263</td>\n",
       "      <td>1.004059</td>\n",
       "      <td>-0.201725</td>\n",
       "      <td>one</td>\n",
       "    </tr>\n",
       "    <tr>\n",
       "      <th>2</th>\n",
       "      <td>-0.064061</td>\n",
       "      <td>0.000000</td>\n",
       "      <td>-0.895063</td>\n",
       "      <td>0.399510</td>\n",
       "      <td>two</td>\n",
       "    </tr>\n",
       "    <tr>\n",
       "      <th>3</th>\n",
       "      <td>0.703439</td>\n",
       "      <td>0.621289</td>\n",
       "      <td>1.534496</td>\n",
       "      <td>-0.235789</td>\n",
       "      <td>three</td>\n",
       "    </tr>\n",
       "    <tr>\n",
       "      <th>4</th>\n",
       "      <td>0.393087</td>\n",
       "      <td>0.000000</td>\n",
       "      <td>-0.606220</td>\n",
       "      <td>-1.134866</td>\n",
       "      <td>four</td>\n",
       "    </tr>\n",
       "    <tr>\n",
       "      <th>5</th>\n",
       "      <td>-0.164762</td>\n",
       "      <td>0.000000</td>\n",
       "      <td>1.873723</td>\n",
       "      <td>-0.535401</td>\n",
       "      <td>three</td>\n",
       "    </tr>\n",
       "  </tbody>\n",
       "</table>\n",
       "</div>"
      ],
      "text/plain": [
       "          A         B         C         D      E\n",
       "0  1.648981 -0.552784 -0.246392 -0.481354    one\n",
       "1  1.704749 -1.622263  1.004059 -0.201725    one\n",
       "2 -0.064061  0.000000 -0.895063  0.399510    two\n",
       "3  0.703439  0.621289  1.534496 -0.235789  three\n",
       "4  0.393087  0.000000 -0.606220 -1.134866   four\n",
       "5 -0.164762  0.000000  1.873723 -0.535401  three"
      ]
     },
     "execution_count": 56,
     "metadata": {},
     "output_type": "execute_result"
    }
   ],
   "source": [
    "df.loc[df['A'] < 0.5, 'B'] = 0  # изменение значений DataFrame в колонке 'B' на значение 0 при условии, что значения в колонке 'A' меньше 0.5\n",
    "df  # вывод DataFrame"
   ]
  },
  {
   "cell_type": "markdown",
   "metadata": {},
   "source": [
    "**ЗАДАНИЕ**<br>\n",
    "Изменените значений DataFrame df в колонке 'D' на значение 0.5 при условии, что значения в колонке 'D' меньше 0.5 или значения в колонке 'C' меньше 0.5."
   ]
  },
  {
   "cell_type": "code",
   "execution_count": 57,
   "metadata": {},
   "outputs": [],
   "source": [
    "# ВАШ КОД"
   ]
  },
  {
   "cell_type": "code",
   "execution_count": 58,
   "metadata": {},
   "outputs": [
    {
     "data": {
      "text/html": [
       "<div>\n",
       "<style>\n",
       "    .dataframe thead tr:only-child th {\n",
       "        text-align: right;\n",
       "    }\n",
       "\n",
       "    .dataframe thead th {\n",
       "        text-align: left;\n",
       "    }\n",
       "\n",
       "    .dataframe tbody tr th {\n",
       "        vertical-align: top;\n",
       "    }\n",
       "</style>\n",
       "<table border=\"1\" class=\"dataframe\">\n",
       "  <thead>\n",
       "    <tr style=\"text-align: right;\">\n",
       "      <th></th>\n",
       "      <th>A</th>\n",
       "      <th>B</th>\n",
       "      <th>C</th>\n",
       "      <th>D</th>\n",
       "      <th>E</th>\n",
       "      <th>F</th>\n",
       "    </tr>\n",
       "  </thead>\n",
       "  <tbody>\n",
       "    <tr>\n",
       "      <th>0</th>\n",
       "      <td>1.648981</td>\n",
       "      <td>-0.552784</td>\n",
       "      <td>-0.246392</td>\n",
       "      <td>-0.481354</td>\n",
       "      <td>one</td>\n",
       "      <td>0.2</td>\n",
       "    </tr>\n",
       "    <tr>\n",
       "      <th>1</th>\n",
       "      <td>1.704749</td>\n",
       "      <td>-1.622263</td>\n",
       "      <td>1.004059</td>\n",
       "      <td>-0.201725</td>\n",
       "      <td>one</td>\n",
       "      <td>NaN</td>\n",
       "    </tr>\n",
       "    <tr>\n",
       "      <th>2</th>\n",
       "      <td>-0.064061</td>\n",
       "      <td>0.000000</td>\n",
       "      <td>-0.895063</td>\n",
       "      <td>0.399510</td>\n",
       "      <td>two</td>\n",
       "      <td>0.5</td>\n",
       "    </tr>\n",
       "    <tr>\n",
       "      <th>3</th>\n",
       "      <td>0.703439</td>\n",
       "      <td>0.621289</td>\n",
       "      <td>1.534496</td>\n",
       "      <td>-0.235789</td>\n",
       "      <td>three</td>\n",
       "      <td>0.1</td>\n",
       "    </tr>\n",
       "    <tr>\n",
       "      <th>4</th>\n",
       "      <td>0.393087</td>\n",
       "      <td>0.000000</td>\n",
       "      <td>-0.606220</td>\n",
       "      <td>-1.134866</td>\n",
       "      <td>four</td>\n",
       "      <td>NaN</td>\n",
       "    </tr>\n",
       "    <tr>\n",
       "      <th>5</th>\n",
       "      <td>-0.164762</td>\n",
       "      <td>0.000000</td>\n",
       "      <td>1.873723</td>\n",
       "      <td>-0.535401</td>\n",
       "      <td>three</td>\n",
       "      <td>NaN</td>\n",
       "    </tr>\n",
       "  </tbody>\n",
       "</table>\n",
       "</div>"
      ],
      "text/plain": [
       "          A         B         C         D      E    F\n",
       "0  1.648981 -0.552784 -0.246392 -0.481354    one  0.2\n",
       "1  1.704749 -1.622263  1.004059 -0.201725    one  NaN\n",
       "2 -0.064061  0.000000 -0.895063  0.399510    two  0.5\n",
       "3  0.703439  0.621289  1.534496 -0.235789  three  0.1\n",
       "4  0.393087  0.000000 -0.606220 -1.134866   four  NaN\n",
       "5 -0.164762  0.000000  1.873723 -0.535401  three  NaN"
      ]
     },
     "execution_count": 58,
     "metadata": {},
     "output_type": "execute_result"
    }
   ],
   "source": [
    "df['F'] = [0.2, np.NaN, 0.5, 0.1, np.NaN, np.NaN]  # создание колонки с неизвестными значениями\n",
    "df  # вывод DataFrame"
   ]
  },
  {
   "cell_type": "code",
   "execution_count": 59,
   "metadata": {},
   "outputs": [
    {
     "data": {
      "text/html": [
       "<div>\n",
       "<style>\n",
       "    .dataframe thead tr:only-child th {\n",
       "        text-align: right;\n",
       "    }\n",
       "\n",
       "    .dataframe thead th {\n",
       "        text-align: left;\n",
       "    }\n",
       "\n",
       "    .dataframe tbody tr th {\n",
       "        vertical-align: top;\n",
       "    }\n",
       "</style>\n",
       "<table border=\"1\" class=\"dataframe\">\n",
       "  <thead>\n",
       "    <tr style=\"text-align: right;\">\n",
       "      <th></th>\n",
       "      <th>A</th>\n",
       "      <th>B</th>\n",
       "      <th>C</th>\n",
       "      <th>D</th>\n",
       "      <th>E</th>\n",
       "      <th>F</th>\n",
       "    </tr>\n",
       "  </thead>\n",
       "  <tbody>\n",
       "    <tr>\n",
       "      <th>0</th>\n",
       "      <td>1.648981</td>\n",
       "      <td>-0.552784</td>\n",
       "      <td>-0.246392</td>\n",
       "      <td>-0.481354</td>\n",
       "      <td>one</td>\n",
       "      <td>0.2</td>\n",
       "    </tr>\n",
       "    <tr>\n",
       "      <th>2</th>\n",
       "      <td>-0.064061</td>\n",
       "      <td>0.000000</td>\n",
       "      <td>-0.895063</td>\n",
       "      <td>0.399510</td>\n",
       "      <td>two</td>\n",
       "      <td>0.5</td>\n",
       "    </tr>\n",
       "    <tr>\n",
       "      <th>3</th>\n",
       "      <td>0.703439</td>\n",
       "      <td>0.621289</td>\n",
       "      <td>1.534496</td>\n",
       "      <td>-0.235789</td>\n",
       "      <td>three</td>\n",
       "      <td>0.1</td>\n",
       "    </tr>\n",
       "  </tbody>\n",
       "</table>\n",
       "</div>"
      ],
      "text/plain": [
       "          A         B         C         D      E    F\n",
       "0  1.648981 -0.552784 -0.246392 -0.481354    one  0.2\n",
       "2 -0.064061  0.000000 -0.895063  0.399510    two  0.5\n",
       "3  0.703439  0.621289  1.534496 -0.235789  three  0.1"
      ]
     },
     "execution_count": 59,
     "metadata": {},
     "output_type": "execute_result"
    }
   ],
   "source": [
    "df.dropna()  # удалить все строки в DataFrame, которые зодержат неизвестные значения"
   ]
  },
  {
   "cell_type": "code",
   "execution_count": 60,
   "metadata": {
    "scrolled": true
   },
   "outputs": [
    {
     "data": {
      "text/html": [
       "<div>\n",
       "<style>\n",
       "    .dataframe thead tr:only-child th {\n",
       "        text-align: right;\n",
       "    }\n",
       "\n",
       "    .dataframe thead th {\n",
       "        text-align: left;\n",
       "    }\n",
       "\n",
       "    .dataframe tbody tr th {\n",
       "        vertical-align: top;\n",
       "    }\n",
       "</style>\n",
       "<table border=\"1\" class=\"dataframe\">\n",
       "  <thead>\n",
       "    <tr style=\"text-align: right;\">\n",
       "      <th></th>\n",
       "      <th>A</th>\n",
       "      <th>B</th>\n",
       "      <th>C</th>\n",
       "      <th>D</th>\n",
       "      <th>E</th>\n",
       "      <th>F</th>\n",
       "    </tr>\n",
       "  </thead>\n",
       "  <tbody>\n",
       "    <tr>\n",
       "      <th>0</th>\n",
       "      <td>1.648981</td>\n",
       "      <td>-0.552784</td>\n",
       "      <td>-0.246392</td>\n",
       "      <td>-0.481354</td>\n",
       "      <td>one</td>\n",
       "      <td>0.2</td>\n",
       "    </tr>\n",
       "    <tr>\n",
       "      <th>1</th>\n",
       "      <td>1.704749</td>\n",
       "      <td>-1.622263</td>\n",
       "      <td>1.004059</td>\n",
       "      <td>-0.201725</td>\n",
       "      <td>one</td>\n",
       "      <td>5.0</td>\n",
       "    </tr>\n",
       "    <tr>\n",
       "      <th>2</th>\n",
       "      <td>-0.064061</td>\n",
       "      <td>0.000000</td>\n",
       "      <td>-0.895063</td>\n",
       "      <td>0.399510</td>\n",
       "      <td>two</td>\n",
       "      <td>0.5</td>\n",
       "    </tr>\n",
       "    <tr>\n",
       "      <th>3</th>\n",
       "      <td>0.703439</td>\n",
       "      <td>0.621289</td>\n",
       "      <td>1.534496</td>\n",
       "      <td>-0.235789</td>\n",
       "      <td>three</td>\n",
       "      <td>0.1</td>\n",
       "    </tr>\n",
       "    <tr>\n",
       "      <th>4</th>\n",
       "      <td>0.393087</td>\n",
       "      <td>0.000000</td>\n",
       "      <td>-0.606220</td>\n",
       "      <td>-1.134866</td>\n",
       "      <td>four</td>\n",
       "      <td>5.0</td>\n",
       "    </tr>\n",
       "    <tr>\n",
       "      <th>5</th>\n",
       "      <td>-0.164762</td>\n",
       "      <td>0.000000</td>\n",
       "      <td>1.873723</td>\n",
       "      <td>-0.535401</td>\n",
       "      <td>three</td>\n",
       "      <td>5.0</td>\n",
       "    </tr>\n",
       "  </tbody>\n",
       "</table>\n",
       "</div>"
      ],
      "text/plain": [
       "          A         B         C         D      E    F\n",
       "0  1.648981 -0.552784 -0.246392 -0.481354    one  0.2\n",
       "1  1.704749 -1.622263  1.004059 -0.201725    one  5.0\n",
       "2 -0.064061  0.000000 -0.895063  0.399510    two  0.5\n",
       "3  0.703439  0.621289  1.534496 -0.235789  three  0.1\n",
       "4  0.393087  0.000000 -0.606220 -1.134866   four  5.0\n",
       "5 -0.164762  0.000000  1.873723 -0.535401  three  5.0"
      ]
     },
     "execution_count": 60,
     "metadata": {},
     "output_type": "execute_result"
    }
   ],
   "source": [
    "df.fillna(value=5)  # заменить все неизвестные значения на значение 5"
   ]
  },
  {
   "cell_type": "markdown",
   "metadata": {},
   "source": [
    "Pandas обладает функциями для вычисления различных статистических показателей."
   ]
  },
  {
   "cell_type": "code",
   "execution_count": 61,
   "metadata": {},
   "outputs": [
    {
     "name": "stdout",
     "output_type": "stream",
     "text": [
      "0.7035721752845528\n",
      "0.8168009108509557\n",
      "4.221433051707317\n"
     ]
    }
   ],
   "source": [
    "print(df['A'].mean())  # среднее\n",
    "print(df['A'].std())  # стандартное отклонение\n",
    "print(df['A'].sum())  # сумма"
   ]
  },
  {
   "cell_type": "code",
   "execution_count": 62,
   "metadata": {},
   "outputs": [
    {
     "data": {
      "text/html": [
       "<div>\n",
       "<style>\n",
       "    .dataframe thead tr:only-child th {\n",
       "        text-align: right;\n",
       "    }\n",
       "\n",
       "    .dataframe thead th {\n",
       "        text-align: left;\n",
       "    }\n",
       "\n",
       "    .dataframe tbody tr th {\n",
       "        vertical-align: top;\n",
       "    }\n",
       "</style>\n",
       "<table border=\"1\" class=\"dataframe\">\n",
       "  <thead>\n",
       "    <tr style=\"text-align: right;\">\n",
       "      <th></th>\n",
       "      <th>A</th>\n",
       "      <th>B</th>\n",
       "      <th>C</th>\n",
       "      <th>D</th>\n",
       "      <th>F</th>\n",
       "    </tr>\n",
       "    <tr>\n",
       "      <th>E</th>\n",
       "      <th></th>\n",
       "      <th></th>\n",
       "      <th></th>\n",
       "      <th></th>\n",
       "      <th></th>\n",
       "    </tr>\n",
       "  </thead>\n",
       "  <tbody>\n",
       "    <tr>\n",
       "      <th>four</th>\n",
       "      <td>0.393087</td>\n",
       "      <td>0.000000</td>\n",
       "      <td>-0.606220</td>\n",
       "      <td>-1.134866</td>\n",
       "      <td>NaN</td>\n",
       "    </tr>\n",
       "    <tr>\n",
       "      <th>one</th>\n",
       "      <td>1.676865</td>\n",
       "      <td>-1.087524</td>\n",
       "      <td>0.378833</td>\n",
       "      <td>-0.341540</td>\n",
       "      <td>0.2</td>\n",
       "    </tr>\n",
       "    <tr>\n",
       "      <th>three</th>\n",
       "      <td>0.269338</td>\n",
       "      <td>0.310645</td>\n",
       "      <td>1.704110</td>\n",
       "      <td>-0.385595</td>\n",
       "      <td>0.1</td>\n",
       "    </tr>\n",
       "    <tr>\n",
       "      <th>two</th>\n",
       "      <td>-0.064061</td>\n",
       "      <td>0.000000</td>\n",
       "      <td>-0.895063</td>\n",
       "      <td>0.399510</td>\n",
       "      <td>0.5</td>\n",
       "    </tr>\n",
       "  </tbody>\n",
       "</table>\n",
       "</div>"
      ],
      "text/plain": [
       "              A         B         C         D    F\n",
       "E                                                 \n",
       "four   0.393087  0.000000 -0.606220 -1.134866  NaN\n",
       "one    1.676865 -1.087524  0.378833 -0.341540  0.2\n",
       "three  0.269338  0.310645  1.704110 -0.385595  0.1\n",
       "two   -0.064061  0.000000 -0.895063  0.399510  0.5"
      ]
     },
     "execution_count": 62,
     "metadata": {},
     "output_type": "execute_result"
    }
   ],
   "source": [
    "df.groupby('E').mean()  # получение статистических показателей с групировкой по категориальной колонке"
   ]
  },
  {
   "cell_type": "code",
   "execution_count": 63,
   "metadata": {},
   "outputs": [
    {
     "data": {
      "text/html": [
       "<div>\n",
       "<style>\n",
       "    .dataframe thead tr:only-child th {\n",
       "        text-align: right;\n",
       "    }\n",
       "\n",
       "    .dataframe thead th {\n",
       "        text-align: left;\n",
       "    }\n",
       "\n",
       "    .dataframe tbody tr th {\n",
       "        vertical-align: top;\n",
       "    }\n",
       "</style>\n",
       "<table border=\"1\" class=\"dataframe\">\n",
       "  <thead>\n",
       "    <tr>\n",
       "      <th></th>\n",
       "      <th colspan=\"3\" halign=\"left\">A</th>\n",
       "      <th colspan=\"3\" halign=\"left\">B</th>\n",
       "      <th colspan=\"3\" halign=\"left\">C</th>\n",
       "      <th colspan=\"3\" halign=\"left\">D</th>\n",
       "      <th colspan=\"3\" halign=\"left\">F</th>\n",
       "    </tr>\n",
       "    <tr>\n",
       "      <th></th>\n",
       "      <th>sum</th>\n",
       "      <th>std</th>\n",
       "      <th>mean</th>\n",
       "      <th>sum</th>\n",
       "      <th>std</th>\n",
       "      <th>mean</th>\n",
       "      <th>sum</th>\n",
       "      <th>std</th>\n",
       "      <th>mean</th>\n",
       "      <th>sum</th>\n",
       "      <th>std</th>\n",
       "      <th>mean</th>\n",
       "      <th>sum</th>\n",
       "      <th>std</th>\n",
       "      <th>mean</th>\n",
       "    </tr>\n",
       "    <tr>\n",
       "      <th>E</th>\n",
       "      <th></th>\n",
       "      <th></th>\n",
       "      <th></th>\n",
       "      <th></th>\n",
       "      <th></th>\n",
       "      <th></th>\n",
       "      <th></th>\n",
       "      <th></th>\n",
       "      <th></th>\n",
       "      <th></th>\n",
       "      <th></th>\n",
       "      <th></th>\n",
       "      <th></th>\n",
       "      <th></th>\n",
       "      <th></th>\n",
       "    </tr>\n",
       "  </thead>\n",
       "  <tbody>\n",
       "    <tr>\n",
       "      <th>four</th>\n",
       "      <td>0.393087</td>\n",
       "      <td>NaN</td>\n",
       "      <td>0.393087</td>\n",
       "      <td>0.000000</td>\n",
       "      <td>NaN</td>\n",
       "      <td>0.000000</td>\n",
       "      <td>-0.606220</td>\n",
       "      <td>NaN</td>\n",
       "      <td>-0.606220</td>\n",
       "      <td>-1.134866</td>\n",
       "      <td>NaN</td>\n",
       "      <td>-1.134866</td>\n",
       "      <td>NaN</td>\n",
       "      <td>NaN</td>\n",
       "      <td>NaN</td>\n",
       "    </tr>\n",
       "    <tr>\n",
       "      <th>one</th>\n",
       "      <td>3.353730</td>\n",
       "      <td>0.039433</td>\n",
       "      <td>1.676865</td>\n",
       "      <td>-2.175047</td>\n",
       "      <td>0.756236</td>\n",
       "      <td>-1.087524</td>\n",
       "      <td>0.757666</td>\n",
       "      <td>0.884202</td>\n",
       "      <td>0.378833</td>\n",
       "      <td>-0.683079</td>\n",
       "      <td>0.197727</td>\n",
       "      <td>-0.341540</td>\n",
       "      <td>0.2</td>\n",
       "      <td>NaN</td>\n",
       "      <td>0.2</td>\n",
       "    </tr>\n",
       "    <tr>\n",
       "      <th>three</th>\n",
       "      <td>0.538677</td>\n",
       "      <td>0.613911</td>\n",
       "      <td>0.269338</td>\n",
       "      <td>0.621289</td>\n",
       "      <td>0.439318</td>\n",
       "      <td>0.310645</td>\n",
       "      <td>3.408219</td>\n",
       "      <td>0.239870</td>\n",
       "      <td>1.704110</td>\n",
       "      <td>-0.771190</td>\n",
       "      <td>0.211857</td>\n",
       "      <td>-0.385595</td>\n",
       "      <td>0.1</td>\n",
       "      <td>NaN</td>\n",
       "      <td>0.1</td>\n",
       "    </tr>\n",
       "    <tr>\n",
       "      <th>two</th>\n",
       "      <td>-0.064061</td>\n",
       "      <td>NaN</td>\n",
       "      <td>-0.064061</td>\n",
       "      <td>0.000000</td>\n",
       "      <td>NaN</td>\n",
       "      <td>0.000000</td>\n",
       "      <td>-0.895063</td>\n",
       "      <td>NaN</td>\n",
       "      <td>-0.895063</td>\n",
       "      <td>0.399510</td>\n",
       "      <td>NaN</td>\n",
       "      <td>0.399510</td>\n",
       "      <td>0.5</td>\n",
       "      <td>NaN</td>\n",
       "      <td>0.5</td>\n",
       "    </tr>\n",
       "  </tbody>\n",
       "</table>\n",
       "</div>"
      ],
      "text/plain": [
       "              A                             B                             C  \\\n",
       "            sum       std      mean       sum       std      mean       sum   \n",
       "E                                                                             \n",
       "four   0.393087       NaN  0.393087  0.000000       NaN  0.000000 -0.606220   \n",
       "one    3.353730  0.039433  1.676865 -2.175047  0.756236 -1.087524  0.757666   \n",
       "three  0.538677  0.613911  0.269338  0.621289  0.439318  0.310645  3.408219   \n",
       "two   -0.064061       NaN -0.064061  0.000000       NaN  0.000000 -0.895063   \n",
       "\n",
       "                                  D                        F           \n",
       "            std      mean       sum       std      mean  sum std mean  \n",
       "E                                                                      \n",
       "four        NaN -0.606220 -1.134866       NaN -1.134866  NaN NaN  NaN  \n",
       "one    0.884202  0.378833 -0.683079  0.197727 -0.341540  0.2 NaN  0.2  \n",
       "three  0.239870  1.704110 -0.771190  0.211857 -0.385595  0.1 NaN  0.1  \n",
       "two         NaN -0.895063  0.399510       NaN  0.399510  0.5 NaN  0.5  "
      ]
     },
     "execution_count": 63,
     "metadata": {},
     "output_type": "execute_result"
    }
   ],
   "source": [
    "df.groupby('E').agg(['sum', 'std', 'mean']) # получение нескольких статистических показателей с групировкой по категориальной колонке"
   ]
  },
  {
   "cell_type": "markdown",
   "metadata": {},
   "source": [
    "**ЗАДАНИЕ**<br>\n",
    "Выведите сумму значений колонок в DataFrame df с группировкой по категориальной колонке 'E' для среза df, в котором значения в колонке 'C' больше, чем среднее значение в колонке 'A'."
   ]
  },
  {
   "cell_type": "code",
   "execution_count": 64,
   "metadata": {},
   "outputs": [],
   "source": [
    "# ВАШ КОД"
   ]
  }
 ],
 "metadata": {
  "kernelspec": {
   "display_name": "Python 3",
   "language": "python",
   "name": "python3"
  },
  "language_info": {
   "codemirror_mode": {
    "name": "ipython",
    "version": 3
   },
   "file_extension": ".py",
   "mimetype": "text/x-python",
   "name": "python",
   "nbconvert_exporter": "python",
   "pygments_lexer": "ipython3",
   "version": "3.6.3"
  }
 },
 "nbformat": 4,
 "nbformat_minor": 2
}
